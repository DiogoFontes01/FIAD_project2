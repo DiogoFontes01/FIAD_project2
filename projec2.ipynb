{
 "cells": [
  {
   "cell_type": "markdown",
   "metadata": {},
   "source": [
    "## Projeto 2 - FIAD - Data Fusion\n",
    "- Diogo Fontes 2023187110\n",
    "- José Silva 2020237724"
   ]
  },
  {
   "cell_type": "code",
   "execution_count": 1,
   "metadata": {},
   "outputs": [],
   "source": [
    "import pandas as pd\n",
    "import numpy as np\n",
    "import matplotlib.pyplot as plt\n",
    "import seaborn as sns"
   ]
  },
  {
   "cell_type": "code",
   "execution_count": 2,
   "metadata": {},
   "outputs": [
    {
     "data": {
      "text/html": [
       "<div>\n",
       "<style scoped>\n",
       "    .dataframe tbody tr th:only-of-type {\n",
       "        vertical-align: middle;\n",
       "    }\n",
       "\n",
       "    .dataframe tbody tr th {\n",
       "        vertical-align: top;\n",
       "    }\n",
       "\n",
       "    .dataframe thead th {\n",
       "        text-align: right;\n",
       "    }\n",
       "</style>\n",
       "<table border=\"1\" class=\"dataframe\">\n",
       "  <thead>\n",
       "    <tr style=\"text-align: right;\">\n",
       "      <th></th>\n",
       "      <th>GD</th>\n",
       "      <th>AG</th>\n",
       "      <th>MS</th>\n",
       "      <th>VA</th>\n",
       "      <th>BD</th>\n",
       "      <th>HR</th>\n",
       "      <th>BP</th>\n",
       "      <th>TP</th>\n",
       "      <th>Rule</th>\n",
       "      <th>GUIDELINES</th>\n",
       "    </tr>\n",
       "  </thead>\n",
       "  <tbody>\n",
       "    <tr>\n",
       "      <th>0</th>\n",
       "      <td>0.0</td>\n",
       "      <td>49.148903</td>\n",
       "      <td>1.0</td>\n",
       "      <td>1.0</td>\n",
       "      <td>1.0</td>\n",
       "      <td>83.456271</td>\n",
       "      <td>135.09198</td>\n",
       "      <td>37.503016</td>\n",
       "      <td>0.0</td>\n",
       "      <td>0</td>\n",
       "    </tr>\n",
       "    <tr>\n",
       "      <th>1</th>\n",
       "      <td>0.0</td>\n",
       "      <td>84.766807</td>\n",
       "      <td>1.0</td>\n",
       "      <td>0.0</td>\n",
       "      <td>3.0</td>\n",
       "      <td>79.449753</td>\n",
       "      <td>132.81408</td>\n",
       "      <td>36.832310</td>\n",
       "      <td>1.0</td>\n",
       "      <td>0</td>\n",
       "    </tr>\n",
       "    <tr>\n",
       "      <th>2</th>\n",
       "      <td>1.0</td>\n",
       "      <td>75.031336</td>\n",
       "      <td>0.0</td>\n",
       "      <td>0.0</td>\n",
       "      <td>3.0</td>\n",
       "      <td>85.470779</td>\n",
       "      <td>137.33184</td>\n",
       "      <td>37.580005</td>\n",
       "      <td>1.0</td>\n",
       "      <td>0</td>\n",
       "    </tr>\n",
       "    <tr>\n",
       "      <th>3</th>\n",
       "      <td>1.0</td>\n",
       "      <td>55.087958</td>\n",
       "      <td>0.0</td>\n",
       "      <td>0.0</td>\n",
       "      <td>1.0</td>\n",
       "      <td>51.561135</td>\n",
       "      <td>149.29652</td>\n",
       "      <td>36.959370</td>\n",
       "      <td>0.0</td>\n",
       "      <td>0</td>\n",
       "    </tr>\n",
       "    <tr>\n",
       "      <th>4</th>\n",
       "      <td>0.0</td>\n",
       "      <td>62.550938</td>\n",
       "      <td>1.0</td>\n",
       "      <td>0.0</td>\n",
       "      <td>2.0</td>\n",
       "      <td>89.008377</td>\n",
       "      <td>121.42689</td>\n",
       "      <td>37.744883</td>\n",
       "      <td>1.0</td>\n",
       "      <td>0</td>\n",
       "    </tr>\n",
       "    <tr>\n",
       "      <th>...</th>\n",
       "      <td>...</td>\n",
       "      <td>...</td>\n",
       "      <td>...</td>\n",
       "      <td>...</td>\n",
       "      <td>...</td>\n",
       "      <td>...</td>\n",
       "      <td>...</td>\n",
       "      <td>...</td>\n",
       "      <td>...</td>\n",
       "      <td>...</td>\n",
       "    </tr>\n",
       "    <tr>\n",
       "      <th>595</th>\n",
       "      <td>1.0</td>\n",
       "      <td>68.820531</td>\n",
       "      <td>1.0</td>\n",
       "      <td>0.0</td>\n",
       "      <td>1.0</td>\n",
       "      <td>72.236092</td>\n",
       "      <td>135.37860</td>\n",
       "      <td>36.099066</td>\n",
       "      <td>0.0</td>\n",
       "      <td>0</td>\n",
       "    </tr>\n",
       "    <tr>\n",
       "      <th>596</th>\n",
       "      <td>0.0</td>\n",
       "      <td>44.434241</td>\n",
       "      <td>1.0</td>\n",
       "      <td>0.0</td>\n",
       "      <td>1.0</td>\n",
       "      <td>74.460422</td>\n",
       "      <td>144.13974</td>\n",
       "      <td>38.274403</td>\n",
       "      <td>1.0</td>\n",
       "      <td>0</td>\n",
       "    </tr>\n",
       "    <tr>\n",
       "      <th>597</th>\n",
       "      <td>0.0</td>\n",
       "      <td>79.903478</td>\n",
       "      <td>0.0</td>\n",
       "      <td>1.0</td>\n",
       "      <td>3.0</td>\n",
       "      <td>43.010392</td>\n",
       "      <td>118.61472</td>\n",
       "      <td>38.173531</td>\n",
       "      <td>0.0</td>\n",
       "      <td>1</td>\n",
       "    </tr>\n",
       "    <tr>\n",
       "      <th>598</th>\n",
       "      <td>1.0</td>\n",
       "      <td>63.209868</td>\n",
       "      <td>0.0</td>\n",
       "      <td>0.0</td>\n",
       "      <td>2.0</td>\n",
       "      <td>61.320137</td>\n",
       "      <td>135.02002</td>\n",
       "      <td>37.818543</td>\n",
       "      <td>1.0</td>\n",
       "      <td>1</td>\n",
       "    </tr>\n",
       "    <tr>\n",
       "      <th>599</th>\n",
       "      <td>0.0</td>\n",
       "      <td>69.086290</td>\n",
       "      <td>1.0</td>\n",
       "      <td>0.0</td>\n",
       "      <td>3.0</td>\n",
       "      <td>75.681904</td>\n",
       "      <td>135.56123</td>\n",
       "      <td>36.380578</td>\n",
       "      <td>0.0</td>\n",
       "      <td>0</td>\n",
       "    </tr>\n",
       "  </tbody>\n",
       "</table>\n",
       "<p>600 rows × 10 columns</p>\n",
       "</div>"
      ],
      "text/plain": [
       "      GD         AG   MS   VA   BD         HR         BP         TP  Rule  \\\n",
       "0    0.0  49.148903  1.0  1.0  1.0  83.456271  135.09198  37.503016   0.0   \n",
       "1    0.0  84.766807  1.0  0.0  3.0  79.449753  132.81408  36.832310   1.0   \n",
       "2    1.0  75.031336  0.0  0.0  3.0  85.470779  137.33184  37.580005   1.0   \n",
       "3    1.0  55.087958  0.0  0.0  1.0  51.561135  149.29652  36.959370   0.0   \n",
       "4    0.0  62.550938  1.0  0.0  2.0  89.008377  121.42689  37.744883   1.0   \n",
       "..   ...        ...  ...  ...  ...        ...        ...        ...   ...   \n",
       "595  1.0  68.820531  1.0  0.0  1.0  72.236092  135.37860  36.099066   0.0   \n",
       "596  0.0  44.434241  1.0  0.0  1.0  74.460422  144.13974  38.274403   1.0   \n",
       "597  0.0  79.903478  0.0  1.0  3.0  43.010392  118.61472  38.173531   0.0   \n",
       "598  1.0  63.209868  0.0  0.0  2.0  61.320137  135.02002  37.818543   1.0   \n",
       "599  0.0  69.086290  1.0  0.0  3.0  75.681904  135.56123  36.380578   0.0   \n",
       "\n",
       "     GUIDELINES  \n",
       "0             0  \n",
       "1             0  \n",
       "2             0  \n",
       "3             0  \n",
       "4             0  \n",
       "..          ...  \n",
       "595           0  \n",
       "596           0  \n",
       "597           1  \n",
       "598           1  \n",
       "599           0  \n",
       "\n",
       "[600 rows x 10 columns]"
      ]
     },
     "execution_count": 2,
     "metadata": {},
     "output_type": "execute_result"
    }
   ],
   "source": [
    "data = np.loadtxt('Meta2COVID.txt')\n",
    "df = pd.DataFrame(data, columns=['GD', 'AG', 'MS', 'VA', 'BD', 'HR', 'BP', 'TP', 'Rule'])\n",
    "\n",
    "df['GUIDELINES'] = 0\n",
    "df.loc[(df['BD'] >= 2) & (df['TP'] > 37.8),'GUIDELINES'] = 1\n",
    "\n",
    "a = df[df['Rule'] == 1]\n",
    "not_a = df[df['Rule'] == 0]\n",
    "\n",
    "df"
   ]
  },
  {
   "cell_type": "markdown",
   "metadata": {},
   "source": [
    "## Priori"
   ]
  },
  {
   "cell_type": "code",
   "execution_count": 3,
   "metadata": {},
   "outputs": [
    {
     "name": "stderr",
     "output_type": "stream",
     "text": [
      "C:\\Users\\Ze\\AppData\\Local\\Temp\\ipykernel_17052\\4086839995.py:4: SettingWithCopyWarning: \n",
      "A value is trying to be set on a copy of a slice from a DataFrame.\n",
      "Try using .loc[row_indexer,col_indexer] = value instead\n",
      "\n",
      "See the caveats in the documentation: https://pandas.pydata.org/pandas-docs/stable/user_guide/indexing.html#returning-a-view-versus-a-copy\n",
      "  a['P(Rule=1)'] = Prob_1\n",
      "C:\\Users\\Ze\\AppData\\Local\\Temp\\ipykernel_17052\\4086839995.py:5: SettingWithCopyWarning: \n",
      "A value is trying to be set on a copy of a slice from a DataFrame.\n",
      "Try using .loc[row_indexer,col_indexer] = value instead\n",
      "\n",
      "See the caveats in the documentation: https://pandas.pydata.org/pandas-docs/stable/user_guide/indexing.html#returning-a-view-versus-a-copy\n",
      "  not_a['P(Rule=0)'] = Prob_0\n"
     ]
    }
   ],
   "source": [
    "Prob_1 = len(a) / len(df)\n",
    "Prob_0 = len(not_a) / len(df)\n",
    "\n",
    "a['P(Rule=1)'] = Prob_1\n",
    "not_a['P(Rule=0)'] = Prob_0"
   ]
  },
  {
   "cell_type": "code",
   "execution_count": 4,
   "metadata": {},
   "outputs": [
    {
     "name": "stdout",
     "output_type": "stream",
     "text": [
      "P(Rule=1)=0.32166666666666666\n",
      "P(Rule=0)=0.6783333333333333\n"
     ]
    }
   ],
   "source": [
    "print(f'P(Rule=1)={Prob_1}')\n",
    "print(f'P(Rule=0)={Prob_0}')"
   ]
  },
  {
   "cell_type": "markdown",
   "metadata": {},
   "source": [
    "## Discrete"
   ]
  },
  {
   "cell_type": "code",
   "execution_count": 5,
   "metadata": {},
   "outputs": [],
   "source": [
    "Prob_gender_1 = a['GD'].value_counts()/len(a)\n",
    "Prob_gender_0 = not_a['GD'].value_counts()/len(not_a)\n",
    "\n",
    "Prob_ms_1 = a['MS'].value_counts()/len(a)\n",
    "Prob_ms_0 = not_a['MS'].value_counts()/len(not_a)\n",
    "\n",
    "Prob_va_1 = a['VA'].value_counts()/len(a)\n",
    "Prob_va_0 = not_a['VA'].value_counts()/len(not_a)\n",
    "\n",
    "Prob_bd_1 = a['BD'].value_counts()/len(a)\n",
    "Prob_bd_0 = not_a['BD'].value_counts()/len(not_a)\n",
    "\n",
    "Prob_guid_1 = a['GUIDELINES'].value_counts()/len(a)\n",
    "Prob_guid_0 = not_a['GUIDELINES'].value_counts()/len(not_a)"
   ]
  },
  {
   "cell_type": "markdown",
   "metadata": {},
   "source": [
    "## Likelihood"
   ]
  },
  {
   "cell_type": "code",
   "execution_count": 6,
   "metadata": {},
   "outputs": [
    {
     "name": "stdout",
     "output_type": "stream",
     "text": [
      "P(GD=1|Rule=1)=0.7202072538860104\n",
      "P(GD=0|Rule=1)=0.27979274611398963\n",
      "\n",
      "P(GD=1|Rule=0)=0.43243243243243246\n",
      "P(GD=0|Rule=0)=0.5675675675675675\n"
     ]
    }
   ],
   "source": [
    "print(f'P(GD=1|Rule=1)={Prob_gender_1[1]}')\n",
    "print(f'P(GD=0|Rule=1)={Prob_gender_1[0]}')\n",
    "print()\n",
    "print(f'P(GD=1|Rule=0)={Prob_gender_0[1]}')\n",
    "print(f'P(GD=0|Rule=0)={Prob_gender_0[0]}')"
   ]
  },
  {
   "cell_type": "code",
   "execution_count": 7,
   "metadata": {},
   "outputs": [
    {
     "name": "stdout",
     "output_type": "stream",
     "text": [
      "P(MS=1|Rule=1)=0.5595854922279793\n",
      "P(MS=0|Rule=1)=0.44041450777202074\n",
      "\n",
      "P(MS=1|Rule=0)=0.4864864864864865\n",
      "P(MS=0|Rule=0)=0.5135135135135135\n"
     ]
    }
   ],
   "source": [
    "print(f'P(MS=1|Rule=1)={Prob_ms_1[1]}')\n",
    "print(f'P(MS=0|Rule=1)={Prob_ms_1[0]}')\n",
    "print()\n",
    "print(f'P(MS=1|Rule=0)={Prob_ms_0[1]}')\n",
    "print(f'P(MS=0|Rule=0)={Prob_ms_0[0]}')"
   ]
  },
  {
   "cell_type": "code",
   "execution_count": 8,
   "metadata": {},
   "outputs": [
    {
     "name": "stdout",
     "output_type": "stream",
     "text": [
      "P(VA=1|Rule=1)=0.20207253886010362\n",
      "P(VA=0|Rule=1)=0.7979274611398963\n",
      "\n",
      "P(VA=1|Rule=0)=0.6265356265356266\n",
      "P(VA=0|Rule=0)=0.37346437346437344\n"
     ]
    }
   ],
   "source": [
    "print(f'P(VA=1|Rule=1)={Prob_va_1[1]}')\n",
    "print(f'P(VA=0|Rule=1)={Prob_va_1[0]}')\n",
    "print()\n",
    "print(f'P(VA=1|Rule=0)={Prob_va_0[1]}')\n",
    "print(f'P(VA=0|Rule=0)={Prob_va_0[0]}')"
   ]
  },
  {
   "cell_type": "code",
   "execution_count": 9,
   "metadata": {},
   "outputs": [
    {
     "name": "stdout",
     "output_type": "stream",
     "text": [
      "P(BD=0|Rule=1)=0.15025906735751296\n",
      "P(BD=1|Rule=1)=0.20207253886010362\n",
      "P(BD=2|Rule=1)=0.27979274611398963\n",
      "P(BD=3|Rule=1)=0.36787564766839376\n",
      "\n",
      "P(BD=0|Rule=0)=0.29975429975429974\n",
      "P(BD=1|Rule=0)=0.27764127764127766\n",
      "P(BD=2|Rule=0)=0.22358722358722358\n",
      "P(BD=3|Rule=0)=0.19901719901719903\n"
     ]
    }
   ],
   "source": [
    "print(f'P(BD=0|Rule=1)={Prob_bd_1[0]}')\n",
    "print(f'P(BD=1|Rule=1)={Prob_bd_1[1]}')\n",
    "print(f'P(BD=2|Rule=1)={Prob_bd_1[2]}')\n",
    "print(f'P(BD=3|Rule=1)={Prob_bd_1[3]}')\n",
    "print()\n",
    "print(f'P(BD=0|Rule=0)={Prob_bd_0[0]}')\n",
    "print(f'P(BD=1|Rule=0)={Prob_bd_0[1]}')\n",
    "print(f'P(BD=2|Rule=0)={Prob_bd_0[2]}')\n",
    "print(f'P(BD=3|Rule=0)={Prob_bd_0[3]}')"
   ]
  },
  {
   "cell_type": "code",
   "execution_count": 10,
   "metadata": {},
   "outputs": [
    {
     "name": "stdout",
     "output_type": "stream",
     "text": [
      "P(GUID=1|Rule=1)=0.35233160621761656\n",
      "P(GUID=0|Rule=1)=0.6476683937823834\n",
      "\n",
      "P(GUID=1|Rule=0)=0.11793611793611794\n",
      "P(GUID=0|Rule=0)=0.8820638820638821\n"
     ]
    }
   ],
   "source": [
    "print(f'P(GUID=1|Rule=1)={Prob_guid_1[1]}')\n",
    "print(f'P(GUID=0|Rule=1)={Prob_guid_1[0]}')\n",
    "print()\n",
    "print(f'P(GUID=1|Rule=0)={Prob_guid_0[1]}')\n",
    "print(f'P(GUID=0|Rule=0)={Prob_guid_0[0]}')"
   ]
  },
  {
   "cell_type": "code",
   "execution_count": 11,
   "metadata": {},
   "outputs": [],
   "source": [
    "Prob1_discrete = Prob_gender_1[df['GD']].to_numpy()*Prob_ms_1[df['MS']].to_numpy()*Prob_va_1[df['VA']].to_numpy()*Prob_bd_1[df['BD']].to_numpy()*Prob_guid_1[df['GUIDELINES']].to_numpy()\n",
    "df['Prob_Discrete (Rule=1)'] = Prob1_discrete*Prob_1\n",
    "\n",
    "Prob0_discrete = Prob_gender_0[df['GD']].to_numpy()*Prob_ms_0[df['MS']].to_numpy()*Prob_va_0[df['VA']].to_numpy()*Prob_bd_0[df['BD']].to_numpy()*Prob_guid_0[df['GUIDELINES']].to_numpy()\n",
    "df['Prob_Discrete (Rule=0)'] = Prob0_discrete*Prob_0"
   ]
  },
  {
   "cell_type": "markdown",
   "metadata": {},
   "source": [
    "## Posterior"
   ]
  },
  {
   "cell_type": "code",
   "execution_count": 12,
   "metadata": {},
   "outputs": [],
   "source": [
    "Prob_0_gender = Prob_gender_0*Prob_0\n",
    "Prob_1_gender = Prob_gender_1*Prob_1\n",
    "\n",
    "Prob_0_ms = Prob_ms_0*Prob_0\n",
    "Prob_1_ms = Prob_ms_1*Prob_1\n",
    "\n",
    "Prob_0_va = Prob_va_0*Prob_0\n",
    "Prob_1_va = Prob_va_1*Prob_1\n",
    "\n",
    "Prob_0_bd = Prob_bd_0*Prob_0\n",
    "Prob_1_bd = Prob_bd_1*Prob_1\n",
    "\n",
    "Prob_0_guid = Prob_guid_0*Prob_0\n",
    "Prob_1_guid = Prob_guid_1*Prob_1"
   ]
  },
  {
   "cell_type": "code",
   "execution_count": 13,
   "metadata": {},
   "outputs": [
    {
     "name": "stdout",
     "output_type": "stream",
     "text": [
      "P(Rule=1|GD=1)=0.23166666666666666\n",
      "P(Rule=1|GD=0)=0.09\n",
      "\n",
      "P(Rule=0|GD=1)=0.29333333333333333\n",
      "P(Rule=0|GD=0)=0.385\n"
     ]
    }
   ],
   "source": [
    "print(f'P(Rule=1|GD=1)={Prob_1_gender[1]}')\n",
    "print(f'P(Rule=1|GD=0)={Prob_1_gender[0]}')\n",
    "print()\n",
    "print(f'P(Rule=0|GD=1)={Prob_0_gender[1]}')\n",
    "print(f'P(Rule=0|GD=0)={Prob_0_gender[0]}')"
   ]
  },
  {
   "cell_type": "code",
   "execution_count": 14,
   "metadata": {},
   "outputs": [
    {
     "name": "stdout",
     "output_type": "stream",
     "text": [
      "P(Rule=1|MS=1)=0.18\n",
      "P(Rule=1|MS=0)=0.14166666666666666\n",
      "\n",
      "P(Rule=0|MS=1)=0.33\n",
      "P(Rule=0|MS=0)=0.34833333333333333\n"
     ]
    }
   ],
   "source": [
    "print(f'P(Rule=1|MS=1)={Prob_1_ms[1]}')\n",
    "print(f'P(Rule=1|MS=0)={Prob_1_ms[0]}')\n",
    "print()\n",
    "print(f'P(Rule=0|MS=1)={Prob_0_ms[1]}')\n",
    "print(f'P(Rule=0|MS=0)={Prob_0_ms[0]}')"
   ]
  },
  {
   "cell_type": "code",
   "execution_count": 15,
   "metadata": {},
   "outputs": [
    {
     "name": "stdout",
     "output_type": "stream",
     "text": [
      "P(Rule=1|VA=1)=0.065\n",
      "P(Rule=1|VA=0)=0.25666666666666665\n",
      "\n",
      "P(Rule=0|VA=1)=0.42500000000000004\n",
      "P(Rule=0|VA=0)=0.2533333333333333\n"
     ]
    }
   ],
   "source": [
    "print(f'P(Rule=1|VA=1)={Prob_1_va[1]}')\n",
    "print(f'P(Rule=1|VA=0)={Prob_1_va[0]}')\n",
    "print()\n",
    "print(f'P(Rule=0|VA=1)={Prob_0_va[1]}')\n",
    "print(f'P(Rule=0|VA=0)={Prob_0_va[0]}')"
   ]
  },
  {
   "cell_type": "code",
   "execution_count": 16,
   "metadata": {},
   "outputs": [
    {
     "name": "stdout",
     "output_type": "stream",
     "text": [
      "P(Rule=1|BD=0)=0.04833333333333333\n",
      "P(Rule=1|BD=1)=0.065\n",
      "P(Rule=1|BD=2)=0.09\n",
      "P(Rule=1|BD=3)=0.11833333333333332\n",
      "\n",
      "P(Rule=0|BD=0)=0.2033333333333333\n",
      "P(Rule=0|BD=1)=0.18833333333333335\n",
      "P(Rule=0|BD=2)=0.15166666666666667\n",
      "P(Rule=0|BD=3)=0.135\n"
     ]
    }
   ],
   "source": [
    "print(f'P(Rule=1|BD=0)={Prob_1_bd[0]}')\n",
    "print(f'P(Rule=1|BD=1)={Prob_1_bd[1]}')\n",
    "print(f'P(Rule=1|BD=2)={Prob_1_bd[2]}')\n",
    "print(f'P(Rule=1|BD=3)={Prob_1_bd[3]}')\n",
    "print()\n",
    "print(f'P(Rule=0|BD=0)={Prob_0_bd[0]}')\n",
    "print(f'P(Rule=0|BD=1)={Prob_0_bd[1]}')\n",
    "print(f'P(Rule=0|BD=2)={Prob_0_bd[2]}')\n",
    "print(f'P(Rule=0|BD=3)={Prob_0_bd[3]}')"
   ]
  },
  {
   "cell_type": "code",
   "execution_count": 17,
   "metadata": {},
   "outputs": [
    {
     "name": "stdout",
     "output_type": "stream",
     "text": [
      "P(Rule=1|GUID=1)=0.11333333333333333\n",
      "P(Rule=1|GUID=0)=0.20833333333333331\n",
      "\n",
      "P(Rule=0|GUID=1)=0.08\n",
      "P(Rule=0|GUID=0)=0.5983333333333334\n"
     ]
    }
   ],
   "source": [
    "print(f'P(Rule=1|GUID=1)={Prob_1_guid[1]}')\n",
    "print(f'P(Rule=1|GUID=0)={Prob_1_guid[0]}')\n",
    "print()\n",
    "print(f'P(Rule=0|GUID=1)={Prob_0_guid[1]}')\n",
    "print(f'P(Rule=0|GUID=0)={Prob_0_guid[0]}')"
   ]
  },
  {
   "cell_type": "markdown",
   "metadata": {},
   "source": [
    "## Continuous"
   ]
  },
  {
   "cell_type": "code",
   "execution_count": 18,
   "metadata": {},
   "outputs": [],
   "source": [
    "#Gaussian\n",
    "def gaussian(x, mean, std):\n",
    "    return 1 / (std * np.sqrt(2 * np.pi)) * np.exp(-np.power(x - mean,2)/(2 * std**2))"
   ]
  },
  {
   "cell_type": "markdown",
   "metadata": {},
   "source": [
    "## Likelihood"
   ]
  },
  {
   "cell_type": "code",
   "execution_count": 19,
   "metadata": {},
   "outputs": [],
   "source": [
    "Prob_age_1 = gaussian(df['AG'], a['AG'].mean(), a['AG'].std())\n",
    "Prob_age_0 = gaussian(df['AG'], not_a['AG'].mean(), not_a['AG'].std())\n",
    "\n",
    "Prob_hr_1 = gaussian(df['HR'], a['HR'].mean(), a['HR'].std())\n",
    "Prob_hr_0 = gaussian(df['HR'], not_a['HR'].mean(), not_a['HR'].std())\n",
    "\n",
    "Prob_bp_1= gaussian(df['BP'], a['BP'].mean(), a['BP'].std())\n",
    "Prob_bp_0= gaussian(df['BP'], not_a['BP'].mean(), not_a['BP'].std())\n",
    "\n",
    "Prob_tp_1 = gaussian(df['TP'], a['TP'].mean(), a['TP'].std())\n",
    "Prob_tp_0 = gaussian(df['TP'], not_a['TP'].mean(), not_a['TP'].std())"
   ]
  },
  {
   "cell_type": "code",
   "execution_count": 20,
   "metadata": {},
   "outputs": [],
   "source": [
    "Prob1_continuous = Prob_age_1.to_numpy()*Prob_hr_1.to_numpy()*Prob_bp_1.to_numpy()*Prob_tp_1.to_numpy()\n",
    "df['Prob_Continuous (Rule=1)'] = Prob1_continuous*Prob_1\n",
    "\n",
    "Prob0_continuous = Prob_age_0.to_numpy()*Prob_hr_0.to_numpy()*Prob_bp_0.to_numpy()*Prob_tp_0.to_numpy()\n",
    "df['Prob_Continuous (Rule=0)'] = Prob0_continuous*Prob_0"
   ]
  },
  {
   "cell_type": "code",
   "execution_count": 21,
   "metadata": {},
   "outputs": [],
   "source": [
    "Prob_age_1 = gaussian(a['AG'].unique(), a['AG'].mean(), a['AG'].std())\n",
    "Prob_age_0 = gaussian(not_a['AG'].unique(), not_a['AG'].mean(), not_a['AG'].std())\n",
    "\n",
    "Prob_hr_1= gaussian(a['HR'].unique(), a['HR'].mean(), a['HR'].std())\n",
    "Prob_hr_0= gaussian(not_a['HR'].unique(), not_a['HR'].mean(), not_a['HR'].std())\n",
    "\n",
    "Prob_bp_1 = gaussian(a['BP'].unique(), a['BP'].mean(), a['BP'].std())\n",
    "Prob_bp_0 = gaussian(not_a['BP'].unique(), not_a['BP'].mean(), not_a['BP'].std())\n",
    "\n",
    "Prob_tp_1 = gaussian(a['TP'].unique(), a['TP'].mean(), a['TP'].std())\n",
    "Prob_tp_0 = gaussian(not_a['TP'].unique(), not_a['TP'].mean(), not_a['TP'].std())"
   ]
  },
  {
   "cell_type": "markdown",
   "metadata": {},
   "source": [
    "## Posterior "
   ]
  },
  {
   "cell_type": "code",
   "execution_count": 22,
   "metadata": {},
   "outputs": [],
   "source": [
    "Prob_1_age = Prob_age_1*Prob_1\n",
    "Prob_0_age = Prob_age_0*Prob_0\n",
    "\n",
    "Prob_1_hr = Prob_hr_1*Prob_1\n",
    "Prob_0_hr = Prob_hr_0*Prob_0\n",
    "\n",
    "Prob_1_bp = Prob_bp_1*Prob_1\n",
    "Prob_0_bp = Prob_bp_0*Prob_0\n",
    "\n",
    "Prob_1_tp = Prob_tp_1*Prob_1\n",
    "Prob_0_tp = Prob_tp_0*Prob_0"
   ]
  },
  {
   "cell_type": "code",
   "execution_count": 23,
   "metadata": {},
   "outputs": [],
   "source": [
    "def plot(x1, x2, y1, y0, xlabel, ylabel):\n",
    "    plt.figure(figsize=(5,10))\n",
    "    plt.subplot(2,1,1)\n",
    "    plt.xlabel(xlabel)\n",
    "    plt.ylabel('Probabilidade')\n",
    "    plt.title(f'Distribuição Posterior de {xlabel} (Rule=1))')\n",
    "    plt.bar(x1, y1, label='Rule=1')\n",
    "    plt.subplot(2,1,2)\n",
    "    plt.xlabel(xlabel)\n",
    "    plt.ylabel('Probabilidade')\n",
    "    plt.title(f'Distribuição Posterior de {xlabel} (Rule=0))')\n",
    "    plt.bar(x2, y0, label='Rule=0')\n",
    "    plt.show()"
   ]
  },
  {
   "cell_type": "code",
   "execution_count": 24,
   "metadata": {},
   "outputs": [
    {
     "data": {
      "image/png": "[encoded data removed]",
      "text/plain": [
       "<Figure size 500x1000 with 2 Axes>"
      ]
     },
     "metadata": {},
     "output_type": "display_data"
    },
    {
     "data": {
      "image/png": "[encoded data removed]",
      "text/plain": [
       "<Figure size 500x1000 with 2 Axes>"
      ]
     },
     "metadata": {},
     "output_type": "display_data"
    },
    {
     "data": {
      "image/png": "[encoded data removed]",
      "text/plain": [
       "<Figure size 500x1000 with 2 Axes>"
      ]
     },
     "metadata": {},
     "output_type": "display_data"
    },
    {
     "data": {
      "image/png": "[encoded data removed]",
      "text/plain": [
       "<Figure size 500x1000 with 2 Axes>"
      ]
     },
     "metadata": {},
     "output_type": "display_data"
    }
   ],
   "source": [
    "plot(a['AG'].unique(), not_a['AG'].unique(), Prob_1_age, Prob_0_age, 'Age', 'Probabilidade')\n",
    "plot(a['HR'].unique(), not_a['HR'].unique(), Prob_1_hr, Prob_0_hr, 'HR', 'Probabilidade')\n",
    "plot(a['BP'].unique(), not_a['BP'].unique(), Prob_1_bp, Prob_0_bp, 'BP', 'Probabilidade')\n",
    "plot(a['TP'].unique(), not_a['TP'].unique(), Prob_1_tp, Prob_0_tp, 'TP', 'Probabilidade')"
   ]
  },
  {
   "cell_type": "code",
   "execution_count": 25,
   "metadata": {},
   "outputs": [],
   "source": [
    "Prob_1_X = Prob1_continuous*Prob1_discrete*Prob_1\n",
    "Prob_0_X = Prob0_continuous*Prob0_discrete*Prob_0\n",
    "\n",
    "df['Probabilidade (Rule=1)'] = Prob_1_X\n",
    "df['Probabilidade (Rule=0)'] = Prob_0_X"
   ]
  },
  {
   "cell_type": "code",
   "execution_count": 26,
   "metadata": {},
   "outputs": [
    {
     "data": {
      "text/html": [
       "<div>\n",
       "<style scoped>\n",
       "    .dataframe tbody tr th:only-of-type {\n",
       "        vertical-align: middle;\n",
       "    }\n",
       "\n",
       "    .dataframe tbody tr th {\n",
       "        vertical-align: top;\n",
       "    }\n",
       "\n",
       "    .dataframe thead th {\n",
       "        text-align: right;\n",
       "    }\n",
       "</style>\n",
       "<table border=\"1\" class=\"dataframe\">\n",
       "  <thead>\n",
       "    <tr style=\"text-align: right;\">\n",
       "      <th></th>\n",
       "      <th>GD</th>\n",
       "      <th>AG</th>\n",
       "      <th>MS</th>\n",
       "      <th>VA</th>\n",
       "      <th>BD</th>\n",
       "      <th>HR</th>\n",
       "      <th>BP</th>\n",
       "      <th>TP</th>\n",
       "      <th>Rule</th>\n",
       "      <th>GUIDELINES</th>\n",
       "      <th>Prob_Discrete (Rule=1)</th>\n",
       "      <th>Prob_Discrete (Rule=0)</th>\n",
       "      <th>Prob_Continuous (Rule=1)</th>\n",
       "      <th>Prob_Continuous (Rule=0)</th>\n",
       "      <th>Probabilidade (Rule=1)</th>\n",
       "      <th>Probabilidade (Rule=0)</th>\n",
       "    </tr>\n",
       "  </thead>\n",
       "  <tbody>\n",
       "    <tr>\n",
       "      <th>0</th>\n",
       "      <td>0.0</td>\n",
       "      <td>49.148903</td>\n",
       "      <td>1.0</td>\n",
       "      <td>1.0</td>\n",
       "      <td>1.0</td>\n",
       "      <td>83.456271</td>\n",
       "      <td>135.09198</td>\n",
       "      <td>37.503016</td>\n",
       "      <td>0.0</td>\n",
       "      <td>0</td>\n",
       "      <td>0.001332</td>\n",
       "      <td>0.028738</td>\n",
       "      <td>8.168387e-07</td>\n",
       "      <td>1.332171e-06</td>\n",
       "      <td>3.382256e-09</td>\n",
       "      <td>5.643886e-08</td>\n",
       "    </tr>\n",
       "    <tr>\n",
       "      <th>1</th>\n",
       "      <td>0.0</td>\n",
       "      <td>84.766807</td>\n",
       "      <td>1.0</td>\n",
       "      <td>0.0</td>\n",
       "      <td>3.0</td>\n",
       "      <td>79.449753</td>\n",
       "      <td>132.81408</td>\n",
       "      <td>36.832310</td>\n",
       "      <td>1.0</td>\n",
       "      <td>0</td>\n",
       "      <td>0.009575</td>\n",
       "      <td>0.012279</td>\n",
       "      <td>1.922381e-07</td>\n",
       "      <td>9.282249e-07</td>\n",
       "      <td>5.722154e-09</td>\n",
       "      <td>1.680279e-08</td>\n",
       "    </tr>\n",
       "    <tr>\n",
       "      <th>2</th>\n",
       "      <td>1.0</td>\n",
       "      <td>75.031336</td>\n",
       "      <td>0.0</td>\n",
       "      <td>0.0</td>\n",
       "      <td>3.0</td>\n",
       "      <td>85.470779</td>\n",
       "      <td>137.33184</td>\n",
       "      <td>37.580005</td>\n",
       "      <td>1.0</td>\n",
       "      <td>0</td>\n",
       "      <td>0.019397</td>\n",
       "      <td>0.009875</td>\n",
       "      <td>1.324848e-06</td>\n",
       "      <td>2.343980e-06</td>\n",
       "      <td>7.989180e-08</td>\n",
       "      <td>3.412431e-08</td>\n",
       "    </tr>\n",
       "    <tr>\n",
       "      <th>3</th>\n",
       "      <td>1.0</td>\n",
       "      <td>55.087958</td>\n",
       "      <td>0.0</td>\n",
       "      <td>0.0</td>\n",
       "      <td>1.0</td>\n",
       "      <td>51.561135</td>\n",
       "      <td>149.29652</td>\n",
       "      <td>36.959370</td>\n",
       "      <td>0.0</td>\n",
       "      <td>0</td>\n",
       "      <td>0.010655</td>\n",
       "      <td>0.013777</td>\n",
       "      <td>4.417390e-07</td>\n",
       "      <td>2.376413e-06</td>\n",
       "      <td>1.463215e-08</td>\n",
       "      <td>4.826422e-08</td>\n",
       "    </tr>\n",
       "    <tr>\n",
       "      <th>4</th>\n",
       "      <td>0.0</td>\n",
       "      <td>62.550938</td>\n",
       "      <td>1.0</td>\n",
       "      <td>0.0</td>\n",
       "      <td>2.0</td>\n",
       "      <td>89.008377</td>\n",
       "      <td>121.42689</td>\n",
       "      <td>37.744883</td>\n",
       "      <td>1.0</td>\n",
       "      <td>0</td>\n",
       "      <td>0.007282</td>\n",
       "      <td>0.013795</td>\n",
       "      <td>9.193097e-07</td>\n",
       "      <td>9.104418e-07</td>\n",
       "      <td>2.081217e-08</td>\n",
       "      <td>1.851556e-08</td>\n",
       "    </tr>\n",
       "    <tr>\n",
       "      <th>...</th>\n",
       "      <td>...</td>\n",
       "      <td>...</td>\n",
       "      <td>...</td>\n",
       "      <td>...</td>\n",
       "      <td>...</td>\n",
       "      <td>...</td>\n",
       "      <td>...</td>\n",
       "      <td>...</td>\n",
       "      <td>...</td>\n",
       "      <td>...</td>\n",
       "      <td>...</td>\n",
       "      <td>...</td>\n",
       "      <td>...</td>\n",
       "      <td>...</td>\n",
       "      <td>...</td>\n",
       "      <td>...</td>\n",
       "    </tr>\n",
       "    <tr>\n",
       "      <th>595</th>\n",
       "      <td>1.0</td>\n",
       "      <td>68.820531</td>\n",
       "      <td>1.0</td>\n",
       "      <td>0.0</td>\n",
       "      <td>1.0</td>\n",
       "      <td>72.236092</td>\n",
       "      <td>135.37860</td>\n",
       "      <td>36.099066</td>\n",
       "      <td>0.0</td>\n",
       "      <td>0</td>\n",
       "      <td>0.013538</td>\n",
       "      <td>0.013052</td>\n",
       "      <td>1.045820e-07</td>\n",
       "      <td>1.610823e-06</td>\n",
       "      <td>4.401537e-09</td>\n",
       "      <td>3.099347e-08</td>\n",
       "    </tr>\n",
       "    <tr>\n",
       "      <th>596</th>\n",
       "      <td>0.0</td>\n",
       "      <td>44.434241</td>\n",
       "      <td>1.0</td>\n",
       "      <td>0.0</td>\n",
       "      <td>1.0</td>\n",
       "      <td>74.460422</td>\n",
       "      <td>144.13974</td>\n",
       "      <td>38.274403</td>\n",
       "      <td>1.0</td>\n",
       "      <td>0</td>\n",
       "      <td>0.005259</td>\n",
       "      <td>0.017130</td>\n",
       "      <td>4.617865e-07</td>\n",
       "      <td>5.518647e-07</td>\n",
       "      <td>7.550358e-09</td>\n",
       "      <td>1.393652e-08</td>\n",
       "    </tr>\n",
       "    <tr>\n",
       "      <th>597</th>\n",
       "      <td>0.0</td>\n",
       "      <td>79.903478</td>\n",
       "      <td>0.0</td>\n",
       "      <td>1.0</td>\n",
       "      <td>3.0</td>\n",
       "      <td>43.010392</td>\n",
       "      <td>118.61472</td>\n",
       "      <td>38.173531</td>\n",
       "      <td>0.0</td>\n",
       "      <td>1</td>\n",
       "      <td>0.001038</td>\n",
       "      <td>0.002907</td>\n",
       "      <td>2.162742e-07</td>\n",
       "      <td>2.489853e-07</td>\n",
       "      <td>6.980116e-10</td>\n",
       "      <td>1.067152e-09</td>\n",
       "    </tr>\n",
       "    <tr>\n",
       "      <th>598</th>\n",
       "      <td>1.0</td>\n",
       "      <td>63.209868</td>\n",
       "      <td>0.0</td>\n",
       "      <td>0.0</td>\n",
       "      <td>2.0</td>\n",
       "      <td>61.320137</td>\n",
       "      <td>135.02002</td>\n",
       "      <td>37.818543</td>\n",
       "      <td>1.0</td>\n",
       "      <td>1</td>\n",
       "      <td>0.008026</td>\n",
       "      <td>0.001483</td>\n",
       "      <td>2.052991e-06</td>\n",
       "      <td>3.690103e-06</td>\n",
       "      <td>5.122213e-08</td>\n",
       "      <td>8.069592e-09</td>\n",
       "    </tr>\n",
       "    <tr>\n",
       "      <th>599</th>\n",
       "      <td>0.0</td>\n",
       "      <td>69.086290</td>\n",
       "      <td>1.0</td>\n",
       "      <td>0.0</td>\n",
       "      <td>3.0</td>\n",
       "      <td>75.681904</td>\n",
       "      <td>135.56123</td>\n",
       "      <td>36.380578</td>\n",
       "      <td>0.0</td>\n",
       "      <td>0</td>\n",
       "      <td>0.009575</td>\n",
       "      <td>0.012279</td>\n",
       "      <td>2.498499e-07</td>\n",
       "      <td>2.301746e-06</td>\n",
       "      <td>7.437026e-09</td>\n",
       "      <td>4.166637e-08</td>\n",
       "    </tr>\n",
       "  </tbody>\n",
       "</table>\n",
       "<p>600 rows × 16 columns</p>\n",
       "</div>"
      ],
      "text/plain": [
       "      GD         AG   MS   VA   BD         HR         BP         TP  Rule  \\\n",
       "0    0.0  49.148903  1.0  1.0  1.0  83.456271  135.09198  37.503016   0.0   \n",
       "1    0.0  84.766807  1.0  0.0  3.0  79.449753  132.81408  36.832310   1.0   \n",
       "2    1.0  75.031336  0.0  0.0  3.0  85.470779  137.33184  37.580005   1.0   \n",
       "3    1.0  55.087958  0.0  0.0  1.0  51.561135  149.29652  36.959370   0.0   \n",
       "4    0.0  62.550938  1.0  0.0  2.0  89.008377  121.42689  37.744883   1.0   \n",
       "..   ...        ...  ...  ...  ...        ...        ...        ...   ...   \n",
       "595  1.0  68.820531  1.0  0.0  1.0  72.236092  135.37860  36.099066   0.0   \n",
       "596  0.0  44.434241  1.0  0.0  1.0  74.460422  144.13974  38.274403   1.0   \n",
       "597  0.0  79.903478  0.0  1.0  3.0  43.010392  118.61472  38.173531   0.0   \n",
       "598  1.0  63.209868  0.0  0.0  2.0  61.320137  135.02002  37.818543   1.0   \n",
       "599  0.0  69.086290  1.0  0.0  3.0  75.681904  135.56123  36.380578   0.0   \n",
       "\n",
       "     GUIDELINES  Prob_Discrete (Rule=1)  Prob_Discrete (Rule=0)  \\\n",
       "0             0                0.001332                0.028738   \n",
       "1             0                0.009575                0.012279   \n",
       "2             0                0.019397                0.009875   \n",
       "3             0                0.010655                0.013777   \n",
       "4             0                0.007282                0.013795   \n",
       "..          ...                     ...                     ...   \n",
       "595           0                0.013538                0.013052   \n",
       "596           0                0.005259                0.017130   \n",
       "597           1                0.001038                0.002907   \n",
       "598           1                0.008026                0.001483   \n",
       "599           0                0.009575                0.012279   \n",
       "\n",
       "     Prob_Continuous (Rule=1)  Prob_Continuous (Rule=0)  \\\n",
       "0                8.168387e-07              1.332171e-06   \n",
       "1                1.922381e-07              9.282249e-07   \n",
       "2                1.324848e-06              2.343980e-06   \n",
       "3                4.417390e-07              2.376413e-06   \n",
       "4                9.193097e-07              9.104418e-07   \n",
       "..                        ...                       ...   \n",
       "595              1.045820e-07              1.610823e-06   \n",
       "596              4.617865e-07              5.518647e-07   \n",
       "597              2.162742e-07              2.489853e-07   \n",
       "598              2.052991e-06              3.690103e-06   \n",
       "599              2.498499e-07              2.301746e-06   \n",
       "\n",
       "     Probabilidade (Rule=1)  Probabilidade (Rule=0)  \n",
       "0              3.382256e-09            5.643886e-08  \n",
       "1              5.722154e-09            1.680279e-08  \n",
       "2              7.989180e-08            3.412431e-08  \n",
       "3              1.463215e-08            4.826422e-08  \n",
       "4              2.081217e-08            1.851556e-08  \n",
       "..                      ...                     ...  \n",
       "595            4.401537e-09            3.099347e-08  \n",
       "596            7.550358e-09            1.393652e-08  \n",
       "597            6.980116e-10            1.067152e-09  \n",
       "598            5.122213e-08            8.069592e-09  \n",
       "599            7.437026e-09            4.166637e-08  \n",
       "\n",
       "[600 rows x 16 columns]"
      ]
     },
     "execution_count": 26,
     "metadata": {},
     "output_type": "execute_result"
    }
   ],
   "source": [
    "df"
   ]
  }
 ],
 "metadata": {
  "kernelspec": {
   "display_name": "Python 3",
   "language": "python",
   "name": "python3"
  },
  "language_info": {
   "codemirror_mode": {
    "name": "ipython",
    "version": 3
   },
   "file_extension": ".py",
   "mimetype": "text/x-python",
   "name": "python",
   "nbconvert_exporter": "python",
   "pygments_lexer": "ipython3",
   "version": "3.11.5"
  }
 },
 "nbformat": 4,
 "nbformat_minor": 2
}
